{
 "cells": [
  {
   "cell_type": "raw",
   "metadata": {
    "id": "QFzwNUFzlLHj"
   },
   "source": [
    "# Malaria Cell Detection \n",
    "by Prajjwal Maurya"
   ]
  },
  {
   "cell_type": "markdown",
   "metadata": {
    "id": "PMe8VAlxlLHk"
   },
   "source": [
    "## Importing necessary libraries"
   ]
  },
  {
   "cell_type": "code",
   "execution_count": 1,
   "metadata": {
    "executionInfo": {
     "elapsed": 2498,
     "status": "ok",
     "timestamp": 1608041553017,
     "user": {
      "displayName": "Prajjwal Maurya",
      "photoUrl": "https://lh3.googleusercontent.com/a-/AOh14GhJhOpSny0efIi85uZhvzs1bZYFILTrAREOAzJO5Q=s64",
      "userId": "04707884601332270984"
     },
     "user_tz": -330
    },
    "id": "ens3z6sblOcJ"
   },
   "outputs": [],
   "source": [
    "'''#!pip install -U PyDrive\n",
    "from pydrive.auth import GoogleAuth\n",
    "from pydrive.drive import GoogleDrive\n",
    "from google.colab import auth\n",
    "from oauth2client.client import GoogleCredentials\n",
    "'''"
   ]
  },
  {
   "cell_type": "code",
   "execution_count": 4,
   "metadata": {
    "executionInfo": {
     "elapsed": 2658,
     "status": "ok",
     "timestamp": 1608041613373,
     "user": {
      "displayName": "Prajjwal Maurya",
      "photoUrl": "https://lh3.googleusercontent.com/a-/AOh14GhJhOpSny0efIi85uZhvzs1bZYFILTrAREOAzJO5Q=s64",
      "userId": "04707884601332270984"
     },
     "user_tz": -330
    },
    "id": "_j_X2zYglLHk"
   },
   "outputs": [],
   "source": [
    "#importing basic libraries\n",
    "import os\n",
    "import numpy as np\n",
    "import pandas as pd\n",
    "import random\n",
    "import matplotlib.pyplot as plt\n",
    "%matplotlib inline\n",
    "#from jupyterthemes import jtplot\n",
    "#jtplot.style(theme='monokai',context='notebook',ticks=True,grid=False)"
   ]
  },
  {
   "cell_type": "code",
   "execution_count": 5,
   "metadata": {
    "executionInfo": {
     "elapsed": 1625,
     "status": "ok",
     "timestamp": 1608041617922,
     "user": {
      "displayName": "Prajjwal Maurya",
      "photoUrl": "https://lh3.googleusercontent.com/a-/AOh14GhJhOpSny0efIi85uZhvzs1bZYFILTrAREOAzJO5Q=s64",
      "userId": "04707884601332270984"
     },
     "user_tz": -330
    },
    "id": "rjusLbQ0lLHp"
   },
   "outputs": [],
   "source": [
    "#importing Image processing libraries\n",
    "from PIL import Image\n",
    "import cv2"
   ]
  },
  {
   "cell_type": "code",
   "execution_count": 6,
   "metadata": {
    "executionInfo": {
     "elapsed": 2887,
     "status": "ok",
     "timestamp": 1608041621363,
     "user": {
      "displayName": "Prajjwal Maurya",
      "photoUrl": "https://lh3.googleusercontent.com/a-/AOh14GhJhOpSny0efIi85uZhvzs1bZYFILTrAREOAzJO5Q=s64",
      "userId": "04707884601332270984"
     },
     "user_tz": -330
    },
    "id": "RAAnKNqflLHr"
   },
   "outputs": [],
   "source": [
    "#import train-test-split library\n",
    "from sklearn.model_selection import train_test_split"
   ]
  },
  {
   "cell_type": "markdown",
   "metadata": {
    "id": "SLb_7aaelLHt"
   },
   "source": [
    "## Data Preprocessing"
   ]
  },
  {
   "cell_type": "code",
   "execution_count": null,
   "metadata": {
    "id": "wYWDVWt1lLHu"
   },
   "outputs": [],
   "source": [
    "infected = os.listdir('cell_images/Parasitized/')\n",
    "uninfected = os.listdir('cell_images/Uninfected/')"
   ]
  },
  {
   "cell_type": "code",
   "execution_count": null,
   "metadata": {
    "id": "6tsMM-4GlLHw",
    "outputId": "51335fa1-c825-4c1a-afc2-8eb55ef2c16b"
   },
   "outputs": [
    {
     "name": "stdout",
     "output_type": "stream",
     "text": [
      "Running Phase 1...\n",
      "\n",
      "Completed Phase 1\n",
      "------------------------\n",
      "Running Phase 2\n",
      "\n",
      "Completed Phase 2\n"
     ]
    }
   ],
   "source": [
    "data = []\n",
    "label = []\n",
    "\n",
    "print('Running Phase 1...')\n",
    "\n",
    "for i in infected:\n",
    "    try:\n",
    "        image = cv2.imread('cell_images/Parasitized/'+i)\n",
    "        image_array = Image.fromarray(image).resize((28,28))\n",
    "        data.append(np.array(image_array))\n",
    "        label.append(1)\n",
    "    except AttributeError:\n",
    "        print('')\n",
    "\n",
    "print('Completed Phase 1')\n",
    "print('------------------------')\n",
    "\n",
    "print('Running Phase 2')\n",
    "\n",
    "for u in uninfected:\n",
    "    try:\n",
    "        image = cv2.imread('cell_images/Uninfected/'+u)\n",
    "        image_array = Image.fromarray(image).resize((28,28))\n",
    "        data.append(np.array(image_array))\n",
    "        label.append(0)\n",
    "    except AttributeError:\n",
    "        print('')\n",
    "\n",
    "print('Completed Phase 2')"
   ]
  },
  {
   "cell_type": "code",
   "execution_count": null,
   "metadata": {
    "id": "agBiX1SxlLHz"
   },
   "outputs": [],
   "source": [
    "cells = np.array(data)\n",
    "labels = np.array(label)\n",
    "\n",
    "#saving as .npy file\n",
    "\n",
    "np.save('Cells',cells)\n",
    "np.save('Labels',labels)"
   ]
  },
  {
   "cell_type": "code",
   "execution_count": null,
   "metadata": {
    "id": "JMnrI9cwlLH1",
    "outputId": "e48eb8d5-ccaa-420a-b807-6c388d138611"
   },
   "outputs": [
    {
     "name": "stdout",
     "output_type": "stream",
     "text": [
      "Size of Cells: (27558, 28, 28, 3) | Size of Labels: (27558,)\n"
     ]
    }
   ],
   "source": [
    "# checking the shape of arrays\n",
    "\n",
    "print('Size of Cells: {} | Size of Labels: {}'.format(cells.shape,labels.shape))"
   ]
  },
  {
   "cell_type": "markdown",
   "metadata": {
    "id": "s-6WXaqNlLH6"
   },
   "source": [
    "## Visualizing Samples  Data"
   ]
  },
  {
   "cell_type": "code",
   "execution_count": null,
   "metadata": {
    "id": "v3YAUEUUlLH6",
    "outputId": "2bacd92b-d914-494a-d176-6e4360279ffa"
   },
   "outputs": [
    {
     "data": {
      "image/png": "[encoded data removed]",
      "text/plain": [
       "<Figure size 576x504 with 2 Axes>"
      ]
     },
     "metadata": {
      "tags": []
     },
     "output_type": "display_data"
    }
   ],
   "source": [
    "# sample of infected and uninfected data\n",
    "\n",
    "n,p = 0,0\n",
    "for i in range(2):\n",
    "    n+=1\n",
    "    plt.subplot(1,2,n)\n",
    "    plt.imshow(cells[p])\n",
    "    plt.title('{}'.format('Infected' if labels[p]==1 else 'Uninfected'))\n",
    "    plt.xticks([]),plt.yticks([])\n",
    "    p=15000\n",
    "plt.show()"
   ]
  },
  {
   "cell_type": "code",
   "execution_count": null,
   "metadata": {
    "id": "KZdMylBolLH_",
    "outputId": "69fc55b1-c321-40a3-83b4-c2d647094cbb",
    "scrolled": false
   },
   "outputs": [
    {
     "data": {
      "image/png": "[encoded data removed]",
      "text/plain": [
       "<Figure size 1080x1080 with 25 Axes>"
      ]
     },
     "metadata": {
      "tags": []
     },
     "output_type": "display_data"
    }
   ],
   "source": [
    "# Random Samples\n",
    "\n",
    "plt.figure(figsize=(15,15))\n",
    "n = 0\n",
    "for i in range(25):\n",
    "    n+=1\n",
    "    plt.subplot(5,5,n)\n",
    "    plt.subplots_adjust(hspace = 0, wspace = 1)\n",
    "    r = random.randint(0,cells.shape[0])\n",
    "    plt.imshow(cells[r])\n",
    "    plt.title('{} | Label:{}'.format('Infected' if labels[r]==1 else 'Uninfected',label[r]))\n",
    "    plt.xticks([]),plt.yticks([])\n",
    "plt.show()\n",
    "    "
   ]
  },
  {
   "cell_type": "markdown",
   "metadata": {
    "id": "9sbPf3LWlLIB"
   },
   "source": [
    "## Splitting data into Train Test Data"
   ]
  },
  {
   "cell_type": "code",
   "execution_count": 7,
   "metadata": {
    "colab": {
     "base_uri": "https://localhost:8080/"
    },
    "executionInfo": {
     "elapsed": 77918,
     "status": "ok",
     "timestamp": 1608041713970,
     "user": {
      "displayName": "Prajjwal Maurya",
      "photoUrl": "https://lh3.googleusercontent.com/a-/AOh14GhJhOpSny0efIi85uZhvzs1bZYFILTrAREOAzJO5Q=s64",
      "userId": "04707884601332270984"
     },
     "user_tz": -330
    },
    "id": "oSepYPt1olBB",
    "outputId": "e3ddef87-ca92-4a10-e154-07360fe8e135"
   },
   "outputs": [
    {
     "name": "stdout",
     "output_type": "stream",
     "text": [
      "Mounted at /content/drive\n"
     ]
    }
   ],
   "source": [
    "from google.colab import drive\n",
    "drive.mount('/content/drive')"
   ]
  },
  {
   "cell_type": "code",
   "execution_count": 8,
   "metadata": {
    "executionInfo": {
     "elapsed": 2610,
     "status": "ok",
     "timestamp": 1608041718225,
     "user": {
      "displayName": "Prajjwal Maurya",
      "photoUrl": "https://lh3.googleusercontent.com/a-/AOh14GhJhOpSny0efIi85uZhvzs1bZYFILTrAREOAzJO5Q=s64",
      "userId": "04707884601332270984"
     },
     "user_tz": -330
    },
    "id": "RgmK1gwGozHt"
   },
   "outputs": [],
   "source": [
    "path = '/content/drive/My Drive/Cells.npy'\n",
    "cells_open = np.load(path)"
   ]
  },
  {
   "cell_type": "code",
   "execution_count": 9,
   "metadata": {
    "executionInfo": {
     "elapsed": 1883,
     "status": "ok",
     "timestamp": 1608041721414,
     "user": {
      "displayName": "Prajjwal Maurya",
      "photoUrl": "https://lh3.googleusercontent.com/a-/AOh14GhJhOpSny0efIi85uZhvzs1bZYFILTrAREOAzJO5Q=s64",
      "userId": "04707884601332270984"
     },
     "user_tz": -330
    },
    "id": "D_qBs6o1ozKP"
   },
   "outputs": [],
   "source": [
    "path = '/content/drive/My Drive/Labels.npy'\n",
    "labels_open = np.load('/content/drive/My Drive/Labels.npy')"
   ]
  },
  {
   "cell_type": "code",
   "execution_count": 10,
   "metadata": {
    "colab": {
     "base_uri": "https://localhost:8080/",
     "height": 330
    },
    "executionInfo": {
     "elapsed": 2101,
     "status": "error",
     "timestamp": 1608041726375,
     "user": {
      "displayName": "Prajjwal Maurya",
      "photoUrl": "https://lh3.googleusercontent.com/a-/AOh14GhJhOpSny0efIi85uZhvzs1bZYFILTrAREOAzJO5Q=s64",
      "userId": "04707884601332270984"
     },
     "user_tz": -330
    },
    "id": "iKIvJBhflLIC",
    "outputId": "766a1e57-74f0-40ca-a173-4baf32e19c01"
   },
   "outputs": [
    {
     "ename": "FileNotFoundError",
     "evalue": "ignored",
     "output_type": "error",
     "traceback": [
      "\u001b[0;31m---------------------------------------------------------------------------\u001b[0m",
      "\u001b[0;31mFileNotFoundError\u001b[0m                         Traceback (most recent call last)",
      "\u001b[0;32m<ipython-input-10-0fcac6de8295>\u001b[0m in \u001b[0;36m<module>\u001b[0;34m()\u001b[0m\n\u001b[1;32m      1\u001b[0m \u001b[0;31m#opening values from saved .npy files as numpy arrays\u001b[0m\u001b[0;34m\u001b[0m\u001b[0;34m\u001b[0m\u001b[0;34m\u001b[0m\u001b[0m\n\u001b[1;32m      2\u001b[0m \u001b[0;34m\u001b[0m\u001b[0m\n\u001b[0;32m----> 3\u001b[0;31m \u001b[0mcells_open\u001b[0m \u001b[0;34m=\u001b[0m \u001b[0mnp\u001b[0m\u001b[0;34m.\u001b[0m\u001b[0mload\u001b[0m\u001b[0;34m(\u001b[0m\u001b[0;34m'Cells.npy'\u001b[0m\u001b[0;34m)\u001b[0m\u001b[0;34m\u001b[0m\u001b[0;34m\u001b[0m\u001b[0m\n\u001b[0m\u001b[1;32m      4\u001b[0m \u001b[0mlabels_open\u001b[0m \u001b[0;34m=\u001b[0m \u001b[0mnp\u001b[0m\u001b[0;34m.\u001b[0m\u001b[0mload\u001b[0m\u001b[0;34m(\u001b[0m\u001b[0;34m'Labels.npy'\u001b[0m\u001b[0;34m)\u001b[0m\u001b[0;34m\u001b[0m\u001b[0;34m\u001b[0m\u001b[0m\n",
      "\u001b[0;32m/usr/local/lib/python3.6/dist-packages/numpy/lib/npyio.py\u001b[0m in \u001b[0;36mload\u001b[0;34m(file, mmap_mode, allow_pickle, fix_imports, encoding)\u001b[0m\n\u001b[1;32m    426\u001b[0m         \u001b[0mown_fid\u001b[0m \u001b[0;34m=\u001b[0m \u001b[0;32mFalse\u001b[0m\u001b[0;34m\u001b[0m\u001b[0;34m\u001b[0m\u001b[0m\n\u001b[1;32m    427\u001b[0m     \u001b[0;32melse\u001b[0m\u001b[0;34m:\u001b[0m\u001b[0;34m\u001b[0m\u001b[0;34m\u001b[0m\u001b[0m\n\u001b[0;32m--> 428\u001b[0;31m         \u001b[0mfid\u001b[0m \u001b[0;34m=\u001b[0m \u001b[0mopen\u001b[0m\u001b[0;34m(\u001b[0m\u001b[0mos_fspath\u001b[0m\u001b[0;34m(\u001b[0m\u001b[0mfile\u001b[0m\u001b[0;34m)\u001b[0m\u001b[0;34m,\u001b[0m \u001b[0;34m\"rb\"\u001b[0m\u001b[0;34m)\u001b[0m\u001b[0;34m\u001b[0m\u001b[0;34m\u001b[0m\u001b[0m\n\u001b[0m\u001b[1;32m    429\u001b[0m         \u001b[0mown_fid\u001b[0m \u001b[0;34m=\u001b[0m \u001b[0;32mTrue\u001b[0m\u001b[0;34m\u001b[0m\u001b[0;34m\u001b[0m\u001b[0m\n\u001b[1;32m    430\u001b[0m \u001b[0;34m\u001b[0m\u001b[0m\n",
      "\u001b[0;31mFileNotFoundError\u001b[0m: [Errno 2] No such file or directory: 'Cells.npy'"
     ]
    }
   ],
   "source": [
    "#opening values from saved .npy files as numpy arrays\n",
    "\n",
    "cells_open = np.load('Cells.npy')\n",
    "labels_open = np.load('Labels.npy')"
   ]
  },
  {
   "cell_type": "code",
   "execution_count": 11,
   "metadata": {
    "colab": {
     "base_uri": "https://localhost:8080/"
    },
    "executionInfo": {
     "elapsed": 7334,
     "status": "ok",
     "timestamp": 1608041752084,
     "user": {
      "displayName": "Prajjwal Maurya",
      "photoUrl": "https://lh3.googleusercontent.com/a-/AOh14GhJhOpSny0efIi85uZhvzs1bZYFILTrAREOAzJO5Q=s64",
      "userId": "04707884601332270984"
     },
     "user_tz": -330
    },
    "id": "eVdk1_mwlLIF",
    "outputId": "24e726cb-c181-473f-e278-19e15e535a34"
   },
   "outputs": [
    {
     "name": "stdout",
     "output_type": "stream",
     "text": [
      "Shuffling Completed Succesfully...\n"
     ]
    }
   ],
   "source": [
    "# shuffling values\n",
    "\n",
    "n = np.arange(27558)\n",
    "np.random.shuffle(n)\n",
    "cells_shuffled = cells_open[n]\n",
    "labels_shuffled = labels_open[n]\n",
    "\n",
    "print(\"Shuffling Completed Succesfully...\")"
   ]
  },
  {
   "cell_type": "code",
   "execution_count": 12,
   "metadata": {
    "executionInfo": {
     "elapsed": 1508,
     "status": "ok",
     "timestamp": 1608041756982,
     "user": {
      "displayName": "Prajjwal Maurya",
      "photoUrl": "https://lh3.googleusercontent.com/a-/AOh14GhJhOpSny0efIi85uZhvzs1bZYFILTrAREOAzJO5Q=s64",
      "userId": "04707884601332270984"
     },
     "user_tz": -330
    },
    "id": "r7F_DI8UlLII"
   },
   "outputs": [],
   "source": [
    "# Dividing by 255 to convert the RGB values in the range of 0-1\n",
    "cells_shuffled = cells_shuffled/255"
   ]
  },
  {
   "cell_type": "code",
   "execution_count": null,
   "metadata": {
    "colab": {
     "base_uri": "https://localhost:8080/"
    },
    "executionInfo": {
     "elapsed": 3766,
     "status": "ok",
     "timestamp": 1603981774570,
     "user": {
      "displayName": "Prajjwal Maurya",
      "photoUrl": "https://lh3.googleusercontent.com/a-/AOh14GhJhOpSny0efIi85uZhvzs1bZYFILTrAREOAzJO5Q=s64",
      "userId": "04707884601332270984"
     },
     "user_tz": -330
    },
    "id": "LTjlhCGilLIL",
    "outputId": "6ac23e44-472f-4439-fd55-53e242ba77f4"
   },
   "outputs": [
    {
     "data": {
      "text/plain": [
       "array([[[[0.        , 0.        , 0.        ],\n",
       "         [0.        , 0.        , 0.        ],\n",
       "         [0.        , 0.        , 0.        ],\n",
       "         ...,\n",
       "         [0.        , 0.        , 0.        ],\n",
       "         [0.        , 0.        , 0.        ],\n",
       "         [0.        , 0.        , 0.        ]],\n",
       "\n",
       "        [[0.        , 0.        , 0.        ],\n",
       "         [0.        , 0.        , 0.        ],\n",
       "         [0.        , 0.        , 0.        ],\n",
       "         ...,\n",
       "         [0.        , 0.        , 0.        ],\n",
       "         [0.        , 0.        , 0.        ],\n",
       "         [0.        , 0.        , 0.        ]],\n",
       "\n",
       "        [[0.        , 0.        , 0.        ],\n",
       "         [0.        , 0.        , 0.        ],\n",
       "         [0.        , 0.        , 0.        ],\n",
       "         ...,\n",
       "         [0.        , 0.        , 0.        ],\n",
       "         [0.        , 0.        , 0.        ],\n",
       "         [0.        , 0.        , 0.        ]],\n",
       "\n",
       "        ...,\n",
       "\n",
       "        [[0.        , 0.        , 0.        ],\n",
       "         [0.        , 0.        , 0.        ],\n",
       "         [0.        , 0.        , 0.        ],\n",
       "         ...,\n",
       "         [0.        , 0.        , 0.        ],\n",
       "         [0.        , 0.        , 0.        ],\n",
       "         [0.        , 0.        , 0.        ]],\n",
       "\n",
       "        [[0.        , 0.        , 0.        ],\n",
       "         [0.        , 0.        , 0.        ],\n",
       "         [0.        , 0.        , 0.        ],\n",
       "         ...,\n",
       "         [0.        , 0.        , 0.        ],\n",
       "         [0.        , 0.        , 0.        ],\n",
       "         [0.        , 0.        , 0.        ]],\n",
       "\n",
       "        [[0.        , 0.        , 0.        ],\n",
       "         [0.        , 0.        , 0.        ],\n",
       "         [0.        , 0.        , 0.        ],\n",
       "         ...,\n",
       "         [0.        , 0.        , 0.        ],\n",
       "         [0.        , 0.        , 0.        ],\n",
       "         [0.        , 0.        , 0.        ]]],\n",
       "\n",
       "\n",
       "       [[[0.        , 0.        , 0.        ],\n",
       "         [0.        , 0.        , 0.        ],\n",
       "         [0.        , 0.        , 0.        ],\n",
       "         ...,\n",
       "         [0.        , 0.        , 0.        ],\n",
       "         [0.        , 0.        , 0.        ],\n",
       "         [0.        , 0.        , 0.        ]],\n",
       "\n",
       "        [[0.        , 0.        , 0.        ],\n",
       "         [0.        , 0.        , 0.        ],\n",
       "         [0.        , 0.        , 0.        ],\n",
       "         ...,\n",
       "         [0.        , 0.        , 0.        ],\n",
       "         [0.        , 0.        , 0.        ],\n",
       "         [0.        , 0.        , 0.        ]],\n",
       "\n",
       "        [[0.        , 0.        , 0.        ],\n",
       "         [0.        , 0.        , 0.        ],\n",
       "         [0.        , 0.        , 0.        ],\n",
       "         ...,\n",
       "         [0.        , 0.        , 0.        ],\n",
       "         [0.        , 0.        , 0.        ],\n",
       "         [0.        , 0.        , 0.        ]],\n",
       "\n",
       "        ...,\n",
       "\n",
       "        [[0.        , 0.        , 0.        ],\n",
       "         [0.        , 0.        , 0.        ],\n",
       "         [0.        , 0.        , 0.        ],\n",
       "         ...,\n",
       "         [0.        , 0.        , 0.        ],\n",
       "         [0.        , 0.        , 0.        ],\n",
       "         [0.        , 0.        , 0.        ]],\n",
       "\n",
       "        [[0.        , 0.        , 0.        ],\n",
       "         [0.        , 0.        , 0.        ],\n",
       "         [0.        , 0.        , 0.        ],\n",
       "         ...,\n",
       "         [0.        , 0.        , 0.        ],\n",
       "         [0.        , 0.        , 0.        ],\n",
       "         [0.        , 0.        , 0.        ]],\n",
       "\n",
       "        [[0.        , 0.        , 0.        ],\n",
       "         [0.        , 0.        , 0.        ],\n",
       "         [0.        , 0.        , 0.        ],\n",
       "         ...,\n",
       "         [0.        , 0.        , 0.        ],\n",
       "         [0.        , 0.        , 0.        ],\n",
       "         [0.        , 0.        , 0.        ]]],\n",
       "\n",
       "\n",
       "       [[[0.        , 0.        , 0.        ],\n",
       "         [0.        , 0.        , 0.        ],\n",
       "         [0.        , 0.        , 0.        ],\n",
       "         ...,\n",
       "         [0.        , 0.        , 0.        ],\n",
       "         [0.        , 0.        , 0.        ],\n",
       "         [0.        , 0.        , 0.        ]],\n",
       "\n",
       "        [[0.        , 0.        , 0.        ],\n",
       "         [0.        , 0.        , 0.        ],\n",
       "         [0.        , 0.        , 0.        ],\n",
       "         ...,\n",
       "         [0.        , 0.        , 0.        ],\n",
       "         [0.        , 0.        , 0.        ],\n",
       "         [0.        , 0.        , 0.        ]],\n",
       "\n",
       "        [[0.        , 0.        , 0.        ],\n",
       "         [0.        , 0.        , 0.        ],\n",
       "         [0.        , 0.        , 0.        ],\n",
       "         ...,\n",
       "         [0.        , 0.        , 0.        ],\n",
       "         [0.        , 0.        , 0.        ],\n",
       "         [0.        , 0.        , 0.        ]],\n",
       "\n",
       "        ...,\n",
       "\n",
       "        [[0.        , 0.        , 0.        ],\n",
       "         [0.        , 0.        , 0.        ],\n",
       "         [0.        , 0.        , 0.        ],\n",
       "         ...,\n",
       "         [0.        , 0.        , 0.        ],\n",
       "         [0.        , 0.        , 0.        ],\n",
       "         [0.        , 0.        , 0.        ]],\n",
       "\n",
       "        [[0.        , 0.        , 0.        ],\n",
       "         [0.        , 0.        , 0.        ],\n",
       "         [0.        , 0.        , 0.        ],\n",
       "         ...,\n",
       "         [0.        , 0.        , 0.        ],\n",
       "         [0.        , 0.        , 0.        ],\n",
       "         [0.        , 0.        , 0.        ]],\n",
       "\n",
       "        [[0.        , 0.        , 0.        ],\n",
       "         [0.        , 0.        , 0.        ],\n",
       "         [0.        , 0.        , 0.        ],\n",
       "         ...,\n",
       "         [0.        , 0.        , 0.        ],\n",
       "         [0.        , 0.        , 0.        ],\n",
       "         [0.        , 0.        , 0.        ]]],\n",
       "\n",
       "\n",
       "       ...,\n",
       "\n",
       "\n",
       "       [[[0.        , 0.        , 0.        ],\n",
       "         [0.        , 0.        , 0.        ],\n",
       "         [0.        , 0.        , 0.        ],\n",
       "         ...,\n",
       "         [0.        , 0.        , 0.        ],\n",
       "         [0.        , 0.        , 0.        ],\n",
       "         [0.        , 0.        , 0.        ]],\n",
       "\n",
       "        [[0.        , 0.        , 0.        ],\n",
       "         [0.        , 0.        , 0.        ],\n",
       "         [0.        , 0.        , 0.        ],\n",
       "         ...,\n",
       "         [0.        , 0.        , 0.        ],\n",
       "         [0.        , 0.        , 0.        ],\n",
       "         [0.        , 0.        , 0.        ]],\n",
       "\n",
       "        [[0.        , 0.        , 0.        ],\n",
       "         [0.        , 0.        , 0.        ],\n",
       "         [0.        , 0.        , 0.        ],\n",
       "         ...,\n",
       "         [0.        , 0.        , 0.        ],\n",
       "         [0.        , 0.        , 0.        ],\n",
       "         [0.        , 0.        , 0.        ]],\n",
       "\n",
       "        ...,\n",
       "\n",
       "        [[0.        , 0.        , 0.        ],\n",
       "         [0.        , 0.        , 0.        ],\n",
       "         [0.        , 0.        , 0.        ],\n",
       "         ...,\n",
       "         [0.29411765, 0.31372549, 0.31764706],\n",
       "         [0.00784314, 0.00784314, 0.00784314],\n",
       "         [0.        , 0.        , 0.        ]],\n",
       "\n",
       "        [[0.        , 0.        , 0.        ],\n",
       "         [0.        , 0.        , 0.        ],\n",
       "         [0.        , 0.        , 0.        ],\n",
       "         ...,\n",
       "         [0.        , 0.        , 0.        ],\n",
       "         [0.        , 0.        , 0.        ],\n",
       "         [0.        , 0.        , 0.        ]],\n",
       "\n",
       "        [[0.        , 0.        , 0.        ],\n",
       "         [0.        , 0.        , 0.        ],\n",
       "         [0.        , 0.        , 0.        ],\n",
       "         ...,\n",
       "         [0.        , 0.        , 0.        ],\n",
       "         [0.        , 0.        , 0.        ],\n",
       "         [0.        , 0.        , 0.        ]]],\n",
       "\n",
       "\n",
       "       [[[0.        , 0.        , 0.        ],\n",
       "         [0.        , 0.        , 0.        ],\n",
       "         [0.        , 0.        , 0.        ],\n",
       "         ...,\n",
       "         [0.        , 0.        , 0.        ],\n",
       "         [0.        , 0.        , 0.        ],\n",
       "         [0.        , 0.        , 0.        ]],\n",
       "\n",
       "        [[0.        , 0.        , 0.        ],\n",
       "         [0.        , 0.        , 0.        ],\n",
       "         [0.        , 0.        , 0.        ],\n",
       "         ...,\n",
       "         [0.        , 0.        , 0.        ],\n",
       "         [0.        , 0.        , 0.        ],\n",
       "         [0.        , 0.        , 0.        ]],\n",
       "\n",
       "        [[0.        , 0.        , 0.        ],\n",
       "         [0.        , 0.        , 0.        ],\n",
       "         [0.        , 0.        , 0.        ],\n",
       "         ...,\n",
       "         [0.        , 0.        , 0.        ],\n",
       "         [0.        , 0.        , 0.        ],\n",
       "         [0.        , 0.        , 0.        ]],\n",
       "\n",
       "        ...,\n",
       "\n",
       "        [[0.        , 0.        , 0.        ],\n",
       "         [0.        , 0.        , 0.        ],\n",
       "         [0.        , 0.        , 0.        ],\n",
       "         ...,\n",
       "         [0.        , 0.        , 0.        ],\n",
       "         [0.        , 0.        , 0.        ],\n",
       "         [0.        , 0.        , 0.        ]],\n",
       "\n",
       "        [[0.        , 0.        , 0.        ],\n",
       "         [0.        , 0.        , 0.        ],\n",
       "         [0.        , 0.        , 0.        ],\n",
       "         ...,\n",
       "         [0.        , 0.        , 0.        ],\n",
       "         [0.        , 0.        , 0.        ],\n",
       "         [0.        , 0.        , 0.        ]],\n",
       "\n",
       "        [[0.        , 0.        , 0.        ],\n",
       "         [0.        , 0.        , 0.        ],\n",
       "         [0.        , 0.        , 0.        ],\n",
       "         ...,\n",
       "         [0.        , 0.        , 0.        ],\n",
       "         [0.        , 0.        , 0.        ],\n",
       "         [0.        , 0.        , 0.        ]]],\n",
       "\n",
       "\n",
       "       [[[0.        , 0.        , 0.        ],\n",
       "         [0.        , 0.        , 0.        ],\n",
       "         [0.        , 0.        , 0.        ],\n",
       "         ...,\n",
       "         [0.4627451 , 0.50980392, 0.64313725],\n",
       "         [0.01568627, 0.01568627, 0.01960784],\n",
       "         [0.        , 0.        , 0.        ]],\n",
       "\n",
       "        [[0.        , 0.        , 0.        ],\n",
       "         [0.        , 0.        , 0.        ],\n",
       "         [0.        , 0.        , 0.        ],\n",
       "         ...,\n",
       "         [0.63137255, 0.69019608, 0.87058824],\n",
       "         [0.23529412, 0.2627451 , 0.3254902 ],\n",
       "         [0.        , 0.        , 0.        ]],\n",
       "\n",
       "        [[0.        , 0.        , 0.        ],\n",
       "         [0.        , 0.        , 0.        ],\n",
       "         [0.        , 0.        , 0.        ],\n",
       "         ...,\n",
       "         [0.62352941, 0.66666667, 0.85882353],\n",
       "         [0.55294118, 0.60392157, 0.76470588],\n",
       "         [0.08627451, 0.09411765, 0.11764706]],\n",
       "\n",
       "        ...,\n",
       "\n",
       "        [[0.        , 0.        , 0.        ],\n",
       "         [0.        , 0.        , 0.        ],\n",
       "         [0.00392157, 0.00392157, 0.00784314],\n",
       "         ...,\n",
       "         [0.        , 0.        , 0.        ],\n",
       "         [0.        , 0.        , 0.        ],\n",
       "         [0.        , 0.        , 0.        ]],\n",
       "\n",
       "        [[0.        , 0.        , 0.        ],\n",
       "         [0.        , 0.        , 0.        ],\n",
       "         [0.        , 0.        , 0.        ],\n",
       "         ...,\n",
       "         [0.        , 0.        , 0.        ],\n",
       "         [0.        , 0.        , 0.        ],\n",
       "         [0.        , 0.        , 0.        ]],\n",
       "\n",
       "        [[0.        , 0.        , 0.        ],\n",
       "         [0.        , 0.        , 0.        ],\n",
       "         [0.        , 0.        , 0.        ],\n",
       "         ...,\n",
       "         [0.        , 0.        , 0.        ],\n",
       "         [0.        , 0.        , 0.        ],\n",
       "         [0.        , 0.        , 0.        ]]]])"
      ]
     },
     "execution_count": 10,
     "metadata": {
      "tags": []
     },
     "output_type": "execute_result"
    }
   ],
   "source": [
    "cells_shuffled"
   ]
  },
  {
   "cell_type": "code",
   "execution_count": null,
   "metadata": {
    "colab": {
     "base_uri": "https://localhost:8080/"
    },
    "executionInfo": {
     "elapsed": 1498,
     "status": "ok",
     "timestamp": 1603981780133,
     "user": {
      "displayName": "Prajjwal Maurya",
      "photoUrl": "https://lh3.googleusercontent.com/a-/AOh14GhJhOpSny0efIi85uZhvzs1bZYFILTrAREOAzJO5Q=s64",
      "userId": "04707884601332270984"
     },
     "user_tz": -330
    },
    "id": "9ISyTMnOlLIO",
    "outputId": "7573de32-2269-4ef7-cec1-5ba9d5c6fc1c"
   },
   "outputs": [
    {
     "data": {
      "text/plain": [
       "array([1, 0, 0, ..., 0, 0, 0], dtype=int32)"
      ]
     },
     "execution_count": 11,
     "metadata": {
      "tags": []
     },
     "output_type": "execute_result"
    }
   ],
   "source": [
    "labels_shuffled"
   ]
  },
  {
   "cell_type": "code",
   "execution_count": 13,
   "metadata": {
    "executionInfo": {
     "elapsed": 2838,
     "status": "ok",
     "timestamp": 1608041767358,
     "user": {
      "displayName": "Prajjwal Maurya",
      "photoUrl": "https://lh3.googleusercontent.com/a-/AOh14GhJhOpSny0efIi85uZhvzs1bZYFILTrAREOAzJO5Q=s64",
      "userId": "04707884601332270984"
     },
     "user_tz": -330
    },
    "id": "Om3JmaxllLIQ"
   },
   "outputs": [],
   "source": [
    "# Splitting in Train and Test Data\n",
    "x_train, x_test, y_train, y_test = train_test_split(cells_shuffled, labels_shuffled, random_state = 13, test_size = 0.2)\n",
    "\n",
    "# Train Data- 80%\n",
    "# Test Data- 20%"
   ]
  },
  {
   "cell_type": "code",
   "execution_count": null,
   "metadata": {
    "id": "zjuUTTsElLIS"
   },
   "outputs": [],
   "source": [
    "'''\n",
    "np.save('x_train',x_train)\n",
    "np.save('x_test',x_test)\n",
    "np.save('y_train',y_train)\n",
    "np.save('y_test',y_test)\n",
    "'''"
   ]
  },
  {
   "cell_type": "code",
   "execution_count": 14,
   "metadata": {
    "colab": {
     "base_uri": "https://localhost:8080/"
    },
    "executionInfo": {
     "elapsed": 9109,
     "status": "ok",
     "timestamp": 1608041881199,
     "user": {
      "displayName": "Prajjwal Maurya",
      "photoUrl": "https://lh3.googleusercontent.com/a-/AOh14GhJhOpSny0efIi85uZhvzs1bZYFILTrAREOAzJO5Q=s64",
      "userId": "04707884601332270984"
     },
     "user_tz": -330
    },
    "id": "4S6SWjUmlLIT",
    "outputId": "c9995c7a-52c7-42bc-c4ff-03175742fbae"
   },
   "outputs": [
    {
     "name": "stdout",
     "output_type": "stream",
     "text": [
      "X Train Shape: (22046, 28, 28, 3) | Y Train Shape: (22046,)\n",
      "X Test Shape: (5512, 28, 28, 3) | Y Test Shape: (5512,)\n"
     ]
    }
   ],
   "source": [
    "print('X Train Shape: {} | Y Train Shape: {}'.format(x_train.shape,y_train.shape))\n",
    "print('X Test Shape: {} | Y Test Shape: {}'.format(x_test.shape,y_test.shape))"
   ]
  },
  {
   "cell_type": "markdown",
   "metadata": {
    "id": "PamSxJPrlLIV"
   },
   "source": [
    "## Machine Learning Model- SVM"
   ]
  },
  {
   "cell_type": "code",
   "execution_count": null,
   "metadata": {
    "id": "jBbVJOUUlLIW",
    "outputId": "6344ba4f-60b1-4554-8424-e03720f912c4"
   },
   "outputs": [
    {
     "name": "stdout",
     "output_type": "stream",
     "text": [
      "Reshaping Successful!\n"
     ]
    }
   ],
   "source": [
    "# Reshaping arrays because ML-SVC only accepts arrays of <=2 dimesnions only.\n",
    "\n",
    "x_train_reshaped = np.reshape(x_train,(22046,2352))\n",
    "\n",
    "x_test_reshaped = np.reshape(x_test,(5512,2352))\n",
    "\n",
    "print(\"Reshaping Successful!\")"
   ]
  },
  {
   "cell_type": "code",
   "execution_count": null,
   "metadata": {
    "id": "Il7imqpslLIY"
   },
   "outputs": [],
   "source": [
    "# importing libraries for Machine Learning\n",
    "\n",
    "from sklearn.metrics import accuracy_score\n",
    "\n",
    "from sklearn.svm import LinearSVC   # LinearSVC is preferred over SVC with any kernels when data sample is well above 10000."
   ]
  },
  {
   "cell_type": "code",
   "execution_count": null,
   "metadata": {
    "id": "HK-DBy1-lLIb",
    "outputId": "2fd91e66-54f3-4513-8cfd-83d13e140892"
   },
   "outputs": [
    {
     "name": "stderr",
     "output_type": "stream",
     "text": [
      "C:\\Users\\asus\\anaconda3\\lib\\site-packages\\sklearn\\svm\\_base.py:947: ConvergenceWarning: Liblinear failed to converge, increase the number of iterations.\n",
      "  \"the number of iterations.\", ConvergenceWarning)\n"
     ]
    },
    {
     "data": {
      "text/plain": [
       "LinearSVC(C=1.0, class_weight=None, dual=True, fit_intercept=True,\n",
       "          intercept_scaling=1, loss='squared_hinge', max_iter=10000,\n",
       "          multi_class='ovr', penalty='l2', random_state=13, tol=0.0001,\n",
       "          verbose=0)"
      ]
     },
     "execution_count": 43,
     "metadata": {
      "tags": []
     },
     "output_type": "execute_result"
    }
   ],
   "source": [
    "# Making object and fitting in the train data.\n",
    "ml_model = LinearSVC(random_state = 13,max_iter=10000)         # max_iter default value is 1000, we incresed it to acheive more accuracy.\n",
    "\n",
    "ml_model.fit(x_train_reshaped,y_train)"
   ]
  },
  {
   "cell_type": "code",
   "execution_count": null,
   "metadata": {
    "id": "GxhKZ40MlLId"
   },
   "outputs": [],
   "source": [
    "# Prediction on Test Data.\n",
    "\n",
    "y_pred = ml_model.predict(x_test_reshaped)"
   ]
  },
  {
   "cell_type": "code",
   "execution_count": null,
   "metadata": {
    "id": "VA-OF5RIlLIf",
    "outputId": "d323f013-9713-4930-d376-1dd71e0f36a8",
    "scrolled": true
   },
   "outputs": [
    {
     "name": "stdout",
     "output_type": "stream",
     "text": [
      "The model accuracy score is : 69.77503628447025 %\n"
     ]
    }
   ],
   "source": [
    "# calculating accuracy.\n",
    "\n",
    "score = accuracy_score(y_pred,y_test)\n",
    "print(\"The model accuracy score is : {} %\".format(score*100))"
   ]
  },
  {
   "cell_type": "code",
   "execution_count": null,
   "metadata": {
    "id": "XReSrM47lLIh"
   },
   "outputs": [],
   "source": [
    "After 10000 iterations of SVM, we got 69.775% accuracy "
   ]
  },
  {
   "cell_type": "markdown",
   "metadata": {
    "id": "xlv7Ohk8lLIj"
   },
   "source": [
    "## Deep Learning Models"
   ]
  },
  {
   "cell_type": "markdown",
   "metadata": {
    "id": "EPutjUs4lLIk"
   },
   "source": [
    "### 1. Sequetial Model without CNN"
   ]
  },
  {
   "cell_type": "code",
   "execution_count": 15,
   "metadata": {
    "executionInfo": {
     "elapsed": 4065,
     "status": "ok",
     "timestamp": 1608041908772,
     "user": {
      "displayName": "Prajjwal Maurya",
      "photoUrl": "https://lh3.googleusercontent.com/a-/AOh14GhJhOpSny0efIi85uZhvzs1bZYFILTrAREOAzJO5Q=s64",
      "userId": "04707884601332270984"
     },
     "user_tz": -330
    },
    "id": "QdPmT0uslLIk"
   },
   "outputs": [],
   "source": [
    "#importing Deep learning libraries\n",
    "\n",
    "import tensorflow as tf\n",
    "from tensorflow.keras.models import Sequential\n",
    "from tensorflow.keras.layers import Dense,Flatten,BatchNormalization"
   ]
  },
  {
   "cell_type": "code",
   "execution_count": null,
   "metadata": {
    "id": "CuP-n69VlLIm"
   },
   "outputs": [],
   "source": [
    "model_1 = Sequential()\n",
    "\n",
    "model_1.add(Flatten(input_shape = [28,28,3]))\n",
    "model_1.add(Dense(256, activation ='relu'))\n",
    "model_1.add(Dense(256, activation ='relu'))\n",
    "model_1.add(Dense(128, activation = 'relu'))\n",
    "model_1.add(Dense(2, activation = 'sigmoid'))"
   ]
  },
  {
   "cell_type": "code",
   "execution_count": null,
   "metadata": {
    "id": "RAMmYUjtlLIo"
   },
   "outputs": [],
   "source": [
    "model_1.compile(\n",
    "    optimizer = 'sgd',\n",
    "    loss = 'sparse_categorical_crossentropy',\n",
    "    metrics=['accuracy']\n",
    ")"
   ]
  },
  {
   "cell_type": "code",
   "execution_count": null,
   "metadata": {
    "id": "Ng-0Kw90lLIr",
    "outputId": "0717cb0c-59c8-4d0a-a4de-58c19ae0d78a"
   },
   "outputs": [
    {
     "name": "stdout",
     "output_type": "stream",
     "text": [
      "Model: \"sequential_19\"\n",
      "_________________________________________________________________\n",
      "Layer (type)                 Output Shape              Param #   \n",
      "=================================================================\n",
      "flatten_8 (Flatten)          (None, 2352)              0         \n",
      "_________________________________________________________________\n",
      "dense_62 (Dense)             (None, 256)               602368    \n",
      "_________________________________________________________________\n",
      "dense_63 (Dense)             (None, 256)               65792     \n",
      "_________________________________________________________________\n",
      "dense_64 (Dense)             (None, 128)               32896     \n",
      "_________________________________________________________________\n",
      "dense_65 (Dense)             (None, 2)                 258       \n",
      "=================================================================\n",
      "Total params: 701,314\n",
      "Trainable params: 701,314\n",
      "Non-trainable params: 0\n",
      "_________________________________________________________________\n"
     ]
    }
   ],
   "source": [
    "model_1.summary()"
   ]
  },
  {
   "cell_type": "code",
   "execution_count": null,
   "metadata": {
    "id": "8e5RM0V_lLIt",
    "outputId": "c5a5de3a-2d13-40e3-868a-c10d77835c11"
   },
   "outputs": [
    {
     "name": "stdout",
     "output_type": "stream",
     "text": [
      "Epoch 1/10\n",
      "22046/22046 [==============================] - 4s 164us/sample - loss: 0.6562 - acc: 0.6103\n",
      "Epoch 2/10\n",
      "22046/22046 [==============================] - 4s 160us/sample - loss: 0.6274 - acc: 0.6471\n",
      "Epoch 3/10\n",
      "22046/22046 [==============================] - 3s 150us/sample - loss: 0.6118 - acc: 0.6620\n",
      "Epoch 4/10\n",
      "22046/22046 [==============================] - 4s 163us/sample - loss: 0.6038 - acc: 0.6714\n",
      "Epoch 5/10\n",
      "22046/22046 [==============================] - 4s 172us/sample - loss: 0.5972 - acc: 0.6771\n",
      "Epoch 6/10\n",
      "22046/22046 [==============================] - 4s 165us/sample - loss: 0.5889 - acc: 0.6853\n",
      "Epoch 7/10\n",
      "22046/22046 [==============================] - 4s 168us/sample - loss: 0.5862 - acc: 0.6904\n",
      "Epoch 8/10\n",
      "22046/22046 [==============================] - 4s 174us/sample - loss: 0.5819 - acc: 0.6943\n",
      "Epoch 9/10\n",
      "22046/22046 [==============================] - 4s 192us/sample - loss: 0.5800 - acc: 0.6947\n",
      "Epoch 10/10\n",
      "22046/22046 [==============================] - 4s 175us/sample - loss: 0.5769 - acc: 0.6960\n"
     ]
    },
    {
     "data": {
      "text/plain": [
       "<tensorflow.python.keras.callbacks.History at 0x25de24193c8>"
      ]
     },
     "execution_count": 126,
     "metadata": {
      "tags": []
     },
     "output_type": "execute_result"
    }
   ],
   "source": [
    "model_1.fit(x_train, y_train, epochs = 10)"
   ]
  },
  {
   "cell_type": "code",
   "execution_count": null,
   "metadata": {
    "id": "tG5nb5AclLIv"
   },
   "outputs": [],
   "source": [
    "After 10 epochs, we got 69.60% accuracy."
   ]
  },
  {
   "cell_type": "markdown",
   "metadata": {
    "id": "KgZWevoUlLIx"
   },
   "source": [
    "### 2. Sequential Model with CNN."
   ]
  },
  {
   "cell_type": "code",
   "execution_count": 16,
   "metadata": {
    "executionInfo": {
     "elapsed": 3235,
     "status": "ok",
     "timestamp": 1608041923664,
     "user": {
      "displayName": "Prajjwal Maurya",
      "photoUrl": "https://lh3.googleusercontent.com/a-/AOh14GhJhOpSny0efIi85uZhvzs1bZYFILTrAREOAzJO5Q=s64",
      "userId": "04707884601332270984"
     },
     "user_tz": -330
    },
    "id": "8C26ZiwjlLIy"
   },
   "outputs": [],
   "source": [
    "from tensorflow.keras.layers import Conv2D,MaxPooling2D,Dropout"
   ]
  },
  {
   "cell_type": "code",
   "execution_count": 17,
   "metadata": {
    "executionInfo": {
     "elapsed": 13538,
     "status": "ok",
     "timestamp": 1608041939094,
     "user": {
      "displayName": "Prajjwal Maurya",
      "photoUrl": "https://lh3.googleusercontent.com/a-/AOh14GhJhOpSny0efIi85uZhvzs1bZYFILTrAREOAzJO5Q=s64",
      "userId": "04707884601332270984"
     },
     "user_tz": -330
    },
    "id": "29Hb2a-mlLIz",
    "scrolled": false
   },
   "outputs": [],
   "source": [
    "model_2 = Sequential()\n",
    "\n",
    "model_2.add(Conv2D(64, (3,3), activation = 'relu', input_shape = (28,28,3)))\n",
    "model_2.add(MaxPooling2D(2,2))\n",
    "model_2.add(BatchNormalization())\n",
    "model_2.add(Dropout(0.2))\n",
    "\n",
    "model_2.add(Conv2D(128, (3,3), activation = 'relu'))\n",
    "model_2.add(MaxPooling2D(2,2))\n",
    "model_2.add(BatchNormalization())\n",
    "model_2.add(Dropout(0.2))\n",
    "\n",
    "model_2.add(Conv2D(64, (3,3), activation = 'relu'))\n",
    "model_2.add(MaxPooling2D(2,2))\n",
    "model_2.add(BatchNormalization())\n",
    "model_2.add(Dropout(0.2))\n",
    "\n",
    "model_2.add(Flatten())\n",
    "model_2.add(Dense(512, activation = 'relu'))\n",
    "model_2.add(Dense(2, activation = 'sigmoid'))"
   ]
  },
  {
   "cell_type": "code",
   "execution_count": 18,
   "metadata": {
    "colab": {
     "base_uri": "https://localhost:8080/"
    },
    "executionInfo": {
     "elapsed": 2798,
     "status": "ok",
     "timestamp": 1608041949004,
     "user": {
      "displayName": "Prajjwal Maurya",
      "photoUrl": "https://lh3.googleusercontent.com/a-/AOh14GhJhOpSny0efIi85uZhvzs1bZYFILTrAREOAzJO5Q=s64",
      "userId": "04707884601332270984"
     },
     "user_tz": -330
    },
    "id": "f_QvjS_dlLI3",
    "outputId": "110dafdb-bf0f-4084-d3b7-bb1b12b76793"
   },
   "outputs": [
    {
     "name": "stdout",
     "output_type": "stream",
     "text": [
      "Model: \"sequential\"\n",
      "_________________________________________________________________\n",
      "Layer (type)                 Output Shape              Param #   \n",
      "=================================================================\n",
      "conv2d (Conv2D)              (None, 26, 26, 64)        1792      \n",
      "_________________________________________________________________\n",
      "max_pooling2d (MaxPooling2D) (None, 13, 13, 64)        0         \n",
      "_________________________________________________________________\n",
      "batch_normalization (BatchNo (None, 13, 13, 64)        256       \n",
      "_________________________________________________________________\n",
      "dropout (Dropout)            (None, 13, 13, 64)        0         \n",
      "_________________________________________________________________\n",
      "conv2d_1 (Conv2D)            (None, 11, 11, 128)       73856     \n",
      "_________________________________________________________________\n",
      "max_pooling2d_1 (MaxPooling2 (None, 5, 5, 128)         0         \n",
      "_________________________________________________________________\n",
      "batch_normalization_1 (Batch (None, 5, 5, 128)         512       \n",
      "_________________________________________________________________\n",
      "dropout_1 (Dropout)          (None, 5, 5, 128)         0         \n",
      "_________________________________________________________________\n",
      "conv2d_2 (Conv2D)            (None, 3, 3, 64)          73792     \n",
      "_________________________________________________________________\n",
      "max_pooling2d_2 (MaxPooling2 (None, 1, 1, 64)          0         \n",
      "_________________________________________________________________\n",
      "batch_normalization_2 (Batch (None, 1, 1, 64)          256       \n",
      "_________________________________________________________________\n",
      "dropout_2 (Dropout)          (None, 1, 1, 64)          0         \n",
      "_________________________________________________________________\n",
      "flatten (Flatten)            (None, 64)                0         \n",
      "_________________________________________________________________\n",
      "dense (Dense)                (None, 512)               33280     \n",
      "_________________________________________________________________\n",
      "dense_1 (Dense)              (None, 2)                 1026      \n",
      "=================================================================\n",
      "Total params: 184,770\n",
      "Trainable params: 184,258\n",
      "Non-trainable params: 512\n",
      "_________________________________________________________________\n"
     ]
    }
   ],
   "source": [
    "model_2.summary()"
   ]
  },
  {
   "cell_type": "code",
   "execution_count": 19,
   "metadata": {
    "executionInfo": {
     "elapsed": 2865,
     "status": "ok",
     "timestamp": 1608041958579,
     "user": {
      "displayName": "Prajjwal Maurya",
      "photoUrl": "https://lh3.googleusercontent.com/a-/AOh14GhJhOpSny0efIi85uZhvzs1bZYFILTrAREOAzJO5Q=s64",
      "userId": "04707884601332270984"
     },
     "user_tz": -330
    },
    "id": "Th4gADwNlLI1"
   },
   "outputs": [],
   "source": [
    "model_2.compile(\n",
    "    optimizer = 'adam',\n",
    "    loss = 'sparse_categorical_crossentropy',\n",
    "    metrics = ['accuracy']\n",
    ")"
   ]
  },
  {
   "cell_type": "code",
   "execution_count": 20,
   "metadata": {
    "colab": {
     "base_uri": "https://localhost:8080/"
    },
    "executionInfo": {
     "elapsed": 140512,
     "status": "ok",
     "timestamp": 1608042105287,
     "user": {
      "displayName": "Prajjwal Maurya",
      "photoUrl": "https://lh3.googleusercontent.com/a-/AOh14GhJhOpSny0efIi85uZhvzs1bZYFILTrAREOAzJO5Q=s64",
      "userId": "04707884601332270984"
     },
     "user_tz": -330
    },
    "id": "K7u335pMyoqn",
    "outputId": "76ab91f3-d2b9-4180-81b0-9abf5497ae3d"
   },
   "outputs": [
    {
     "name": "stdout",
     "output_type": "stream",
     "text": [
      "Epoch 1/50\n",
      "689/689 [==============================] - 3s 4ms/step - loss: 0.4206 - accuracy: 0.8059\n",
      "Epoch 2/50\n",
      "689/689 [==============================] - 3s 4ms/step - loss: 0.3150 - accuracy: 0.8693\n",
      "Epoch 3/50\n",
      "689/689 [==============================] - 3s 4ms/step - loss: 0.2925 - accuracy: 0.8811\n",
      "Epoch 4/50\n",
      "689/689 [==============================] - 3s 4ms/step - loss: 0.2778 - accuracy: 0.8866\n",
      "Epoch 5/50\n",
      "689/689 [==============================] - 3s 4ms/step - loss: 0.2606 - accuracy: 0.8957\n",
      "Epoch 6/50\n",
      "689/689 [==============================] - 3s 4ms/step - loss: 0.2557 - accuracy: 0.8983\n",
      "Epoch 7/50\n",
      "689/689 [==============================] - 3s 4ms/step - loss: 0.2483 - accuracy: 0.8988\n",
      "Epoch 8/50\n",
      "689/689 [==============================] - 3s 4ms/step - loss: 0.2452 - accuracy: 0.9033\n",
      "Epoch 9/50\n",
      "689/689 [==============================] - 3s 4ms/step - loss: 0.2458 - accuracy: 0.9014\n",
      "Epoch 10/50\n",
      "689/689 [==============================] - 3s 4ms/step - loss: 0.2432 - accuracy: 0.9014\n",
      "Epoch 11/50\n",
      "689/689 [==============================] - 3s 4ms/step - loss: 0.2362 - accuracy: 0.9065\n",
      "Epoch 12/50\n",
      "689/689 [==============================] - 3s 4ms/step - loss: 0.2356 - accuracy: 0.9052\n",
      "Epoch 13/50\n",
      "689/689 [==============================] - 3s 4ms/step - loss: 0.2297 - accuracy: 0.9080\n",
      "Epoch 14/50\n",
      "689/689 [==============================] - 2s 4ms/step - loss: 0.2223 - accuracy: 0.9119\n",
      "Epoch 15/50\n",
      "689/689 [==============================] - 3s 4ms/step - loss: 0.2213 - accuracy: 0.9117\n",
      "Epoch 16/50\n",
      "689/689 [==============================] - 2s 4ms/step - loss: 0.2177 - accuracy: 0.9139\n",
      "Epoch 17/50\n",
      "689/689 [==============================] - 3s 4ms/step - loss: 0.2120 - accuracy: 0.9160\n",
      "Epoch 18/50\n",
      "689/689 [==============================] - 3s 4ms/step - loss: 0.2105 - accuracy: 0.9172\n",
      "Epoch 19/50\n",
      "689/689 [==============================] - 3s 4ms/step - loss: 0.2119 - accuracy: 0.9169\n",
      "Epoch 20/50\n",
      "689/689 [==============================] - 3s 4ms/step - loss: 0.2088 - accuracy: 0.9175\n",
      "Epoch 21/50\n",
      "689/689 [==============================] - 3s 4ms/step - loss: 0.2057 - accuracy: 0.9175\n",
      "Epoch 22/50\n",
      "689/689 [==============================] - 3s 4ms/step - loss: 0.2048 - accuracy: 0.9175\n",
      "Epoch 23/50\n",
      "689/689 [==============================] - 3s 4ms/step - loss: 0.2008 - accuracy: 0.9208\n",
      "Epoch 24/50\n",
      "689/689 [==============================] - 2s 4ms/step - loss: 0.1966 - accuracy: 0.9203\n",
      "Epoch 25/50\n",
      "689/689 [==============================] - 3s 4ms/step - loss: 0.1957 - accuracy: 0.9229\n",
      "Epoch 26/50\n",
      "689/689 [==============================] - 2s 4ms/step - loss: 0.1954 - accuracy: 0.9231\n",
      "Epoch 27/50\n",
      "689/689 [==============================] - 2s 4ms/step - loss: 0.1947 - accuracy: 0.9244\n",
      "Epoch 28/50\n",
      "689/689 [==============================] - 2s 4ms/step - loss: 0.1936 - accuracy: 0.9238\n",
      "Epoch 29/50\n",
      "689/689 [==============================] - 3s 4ms/step - loss: 0.1877 - accuracy: 0.9256\n",
      "Epoch 30/50\n",
      "689/689 [==============================] - 3s 4ms/step - loss: 0.1856 - accuracy: 0.9261\n",
      "Epoch 31/50\n",
      "689/689 [==============================] - 2s 4ms/step - loss: 0.1825 - accuracy: 0.9294\n",
      "Epoch 32/50\n",
      "689/689 [==============================] - 3s 4ms/step - loss: 0.1836 - accuracy: 0.9290\n",
      "Epoch 33/50\n",
      "689/689 [==============================] - 3s 4ms/step - loss: 0.1813 - accuracy: 0.9285\n",
      "Epoch 34/50\n",
      "689/689 [==============================] - 3s 4ms/step - loss: 0.1764 - accuracy: 0.9325\n",
      "Epoch 35/50\n",
      "689/689 [==============================] - 3s 4ms/step - loss: 0.1756 - accuracy: 0.9313\n",
      "Epoch 36/50\n",
      "689/689 [==============================] - 3s 4ms/step - loss: 0.1722 - accuracy: 0.9320\n",
      "Epoch 37/50\n",
      "689/689 [==============================] - 3s 4ms/step - loss: 0.1777 - accuracy: 0.9320\n",
      "Epoch 38/50\n",
      "689/689 [==============================] - 3s 4ms/step - loss: 0.1689 - accuracy: 0.9323\n",
      "Epoch 39/50\n",
      "689/689 [==============================] - 2s 4ms/step - loss: 0.1696 - accuracy: 0.9330\n",
      "Epoch 40/50\n",
      "689/689 [==============================] - 3s 4ms/step - loss: 0.1656 - accuracy: 0.9359\n",
      "Epoch 41/50\n",
      "689/689 [==============================] - 3s 4ms/step - loss: 0.1699 - accuracy: 0.9351\n",
      "Epoch 42/50\n",
      "689/689 [==============================] - 3s 4ms/step - loss: 0.1646 - accuracy: 0.9350\n",
      "Epoch 43/50\n",
      "689/689 [==============================] - 3s 4ms/step - loss: 0.1647 - accuracy: 0.9351\n",
      "Epoch 44/50\n",
      "689/689 [==============================] - 3s 4ms/step - loss: 0.1640 - accuracy: 0.9353\n",
      "Epoch 45/50\n",
      "689/689 [==============================] - 3s 4ms/step - loss: 0.1662 - accuracy: 0.9338\n",
      "Epoch 46/50\n",
      "689/689 [==============================] - 3s 4ms/step - loss: 0.1634 - accuracy: 0.9370\n",
      "Epoch 47/50\n",
      "689/689 [==============================] - 3s 4ms/step - loss: 0.1594 - accuracy: 0.9379\n",
      "Epoch 48/50\n",
      "689/689 [==============================] - 3s 4ms/step - loss: 0.1623 - accuracy: 0.9359\n",
      "Epoch 49/50\n",
      "689/689 [==============================] - 3s 4ms/step - loss: 0.1577 - accuracy: 0.9368\n",
      "Epoch 50/50\n",
      "689/689 [==============================] - 2s 4ms/step - loss: 0.1574 - accuracy: 0.9388\n"
     ]
    },
    {
     "data": {
      "text/plain": [
       "<tensorflow.python.keras.callbacks.History at 0x7f0d28045ef0>"
      ]
     },
     "execution_count": 20,
     "metadata": {
      "tags": []
     },
     "output_type": "execute_result"
    }
   ],
   "source": [
    "model_2.fit(x_train,y_train,epochs = 50)"
   ]
  },
  {
   "cell_type": "code",
   "execution_count": null,
   "metadata": {
    "id": "YqxZ21YLx2EK"
   },
   "outputs": [],
   "source": [
    "'''\n",
    "from sklearn.externals import joblib\n",
    "\n",
    "# Save to file in the current working directory\n",
    "joblib_file = \"cnn_model.pkl\"\n",
    "joblib.dump(model_2, joblib_file)\n",
    "'''"
   ]
  },
  {
   "cell_type": "code",
   "execution_count": 24,
   "metadata": {
    "colab": {
     "base_uri": "https://localhost:8080/"
    },
    "executionInfo": {
     "elapsed": 6417,
     "status": "ok",
     "timestamp": 1608043302229,
     "user": {
      "displayName": "Prajjwal Maurya",
      "photoUrl": "https://lh3.googleusercontent.com/a-/AOh14GhJhOpSny0efIi85uZhvzs1bZYFILTrAREOAzJO5Q=s64",
      "userId": "04707884601332270984"
     },
     "user_tz": -330
    },
    "id": "wCoOE5Kez7-7",
    "outputId": "6bd885b7-8cc4-4109-ed49-06218be33b6e"
   },
   "outputs": [
    {
     "name": "stdout",
     "output_type": "stream",
     "text": [
      "WARNING:tensorflow:From /usr/local/lib/python3.6/dist-packages/tensorflow/python/training/tracking/tracking.py:111: Model.state_updates (from tensorflow.python.keras.engine.training) is deprecated and will be removed in a future version.\n",
      "Instructions for updating:\n",
      "This property should not be used in TensorFlow 2.0, as updates are applied automatically.\n",
      "WARNING:tensorflow:From /usr/local/lib/python3.6/dist-packages/tensorflow/python/training/tracking/tracking.py:111: Layer.updates (from tensorflow.python.keras.engine.base_layer) is deprecated and will be removed in a future version.\n",
      "Instructions for updating:\n",
      "This property should not be used in TensorFlow 2.0, as updates are applied automatically.\n",
      "INFO:tensorflow:Assets written to: /content/drive/My Drive/assets\n"
     ]
    }
   ],
   "source": [
    "model_2.save('/content/drive/My Drive/')"
   ]
  },
  {
   "cell_type": "code",
   "execution_count": null,
   "metadata": {
    "id": "KVS0IUtexTps"
   },
   "outputs": [],
   "source": [
    "# Accuracy of the model on the training data = 93.83%"
   ]
  },
  {
   "cell_type": "code",
   "execution_count": null,
   "metadata": {
    "colab": {
     "base_uri": "https://localhost:8080/"
    },
    "executionInfo": {
     "elapsed": 1364,
     "status": "ok",
     "timestamp": 1603982793857,
     "user": {
      "displayName": "Prajjwal Maurya",
      "photoUrl": "https://lh3.googleusercontent.com/a-/AOh14GhJhOpSny0efIi85uZhvzs1bZYFILTrAREOAzJO5Q=s64",
      "userId": "04707884601332270984"
     },
     "user_tz": -330
    },
    "id": "7h3VrJ7gxTtt",
    "outputId": "b0e09564-6d07-4028-ac14-e819bd1b7e6a"
   },
   "outputs": [
    {
     "name": "stdout",
     "output_type": "stream",
     "text": [
      "173/173 [==============================] - 0s 2ms/step - loss: 0.2444 - accuracy: 0.9178\n"
     ]
    },
    {
     "data": {
      "text/plain": [
       "91.78156852722168"
      ]
     },
     "execution_count": 26,
     "metadata": {
      "tags": []
     },
     "output_type": "execute_result"
    }
   ],
   "source": [
    "# Accuracy of model on test data to check overfitting\n",
    "\n",
    "loss, accuracy = model_2.evaluate(x_test,y_test)\n",
    "accuracy*100"
   ]
  },
  {
   "cell_type": "code",
   "execution_count": null,
   "metadata": {
    "colab": {
     "base_uri": "https://localhost:8080/"
    },
    "executionInfo": {
     "elapsed": 1474,
     "status": "ok",
     "timestamp": 1603985989483,
     "user": {
      "displayName": "Prajjwal Maurya",
      "photoUrl": "https://lh3.googleusercontent.com/a-/AOh14GhJhOpSny0efIi85uZhvzs1bZYFILTrAREOAzJO5Q=s64",
      "userId": "04707884601332270984"
     },
     "user_tz": -330
    },
    "id": "GLrOqxbvxTzg",
    "outputId": "ee6f23a6-3058-423e-b2e6-1fc72d35432d"
   },
   "outputs": [
    {
     "name": "stdout",
     "output_type": "stream",
     "text": [
      "Summary of all the models\n",
      " Model                           ->        Accuracy\n",
      "------------------------------------------------------\n",
      " SVM                             ->         69.775 % \n",
      " Sequential without CNN          ->         69.600 % \n",
      " Sequential with CNN             ->         93.830 % \n"
     ]
    }
   ],
   "source": [
    "print(\"Summary of all the models\")\n",
    "print(\" Model                           ->        Accuracy\")\n",
    "print(\"------------------------------------------------------\")\n",
    "print(\" SVM                             ->         69.775 % \")\n",
    "print(\" Sequential without CNN          ->         69.600 % \")\n",
    "print(\" Sequential with CNN             ->         93.830 % \")"
   ]
  },
  {
   "cell_type": "code",
   "execution_count": null,
   "metadata": {
    "id": "t8D7Cz4o2Ln8"
   },
   "outputs": [],
   "source": [
    "# Prediction on Sequential with CNN model\n",
    "\n",
    "preds = model_2.predict(x_test)"
   ]
  },
  {
   "cell_type": "code",
   "execution_count": null,
   "metadata": {
    "colab": {
     "base_uri": "https://localhost:8080/"
    },
    "executionInfo": {
     "elapsed": 1382,
     "status": "ok",
     "timestamp": 1603983302952,
     "user": {
      "displayName": "Prajjwal Maurya",
      "photoUrl": "https://lh3.googleusercontent.com/a-/AOh14GhJhOpSny0efIi85uZhvzs1bZYFILTrAREOAzJO5Q=s64",
      "userId": "04707884601332270984"
     },
     "user_tz": -330
    },
    "id": "JSfYpA9i2LrU",
    "outputId": "d9c72aa9-dec8-4e70-8f9b-4f7aedded88b"
   },
   "outputs": [
    {
     "data": {
      "text/plain": [
       "(5512, 2)"
      ]
     },
     "execution_count": 32,
     "metadata": {
      "tags": []
     },
     "output_type": "execute_result"
    }
   ],
   "source": [
    "preds.shape"
   ]
  },
  {
   "cell_type": "code",
   "execution_count": null,
   "metadata": {
    "colab": {
     "base_uri": "https://localhost:8080/",
     "height": 699
    },
    "executionInfo": {
     "elapsed": 3213,
     "status": "ok",
     "timestamp": 1603985955122,
     "user": {
      "displayName": "Prajjwal Maurya",
      "photoUrl": "https://lh3.googleusercontent.com/a-/AOh14GhJhOpSny0efIi85uZhvzs1bZYFILTrAREOAzJO5Q=s64",
      "userId": "04707884601332270984"
     },
     "user_tz": -330
    },
    "id": "SVtovFnJ2Llx",
    "outputId": "da72de84-68b6-4120-dfca-96ad4710d710"
   },
   "outputs": [
    {
     "data": {
      "image/png": "[encoded data removed]",
      "text/plain": [
       "<Figure size 864x864 with 16 Axes>"
      ]
     },
     "metadata": {
      "needs_background": "light",
      "tags": []
     },
     "output_type": "display_data"
    }
   ],
   "source": [
    "#visualizing prediction vs ground truth of random image samples\n",
    "\n",
    "plt.figure(figsize=(12,12))\n",
    "start_index = 2000\n",
    "for i in range(16):\n",
    "  plt.subplot(4,4,i+1)\n",
    "  plt.grid(False)\n",
    "  plt.xticks([])\n",
    "  plt.yticks=([])\n",
    "  pred = np.argmax(preds[start_index+i])\n",
    "  actual = y_test[start_index+i]\n",
    "  col = 'g'\n",
    "  if pred!=actual:\n",
    "    col = 'r'\n",
    "  plt.xlabel(\"i={} | true={} | pred={}\".format(start_index+i,actual,pred),color = col)\n",
    "  plt.imshow(x_test[start_index + i], cmap='binary')\n",
    "plt.show()"
   ]
  },
  {
   "cell_type": "code",
   "execution_count": null,
   "metadata": {
    "colab": {
     "base_uri": "https://localhost:8080/",
     "height": 282
    },
    "executionInfo": {
     "elapsed": 1861,
     "status": "ok",
     "timestamp": 1603985899201,
     "user": {
      "displayName": "Prajjwal Maurya",
      "photoUrl": "https://lh3.googleusercontent.com/a-/AOh14GhJhOpSny0efIi85uZhvzs1bZYFILTrAREOAzJO5Q=s64",
      "userId": "04707884601332270984"
     },
     "user_tz": -330
    },
    "id": "tXY9fyMg5cKg",
    "outputId": "fe7b81e1-2d22-48ae-e631-a3f899b19cad"
   },
   "outputs": [
    {
     "data": {
      "image/png": "[encoded data removed]",
      "text/plain": [
       "<Figure size 432x288 with 1 Axes>"
      ]
     },
     "metadata": {
      "needs_background": "light",
      "tags": []
     },
     "output_type": "display_data"
    },
    {
     "name": "stdout",
     "output_type": "stream",
     "text": [
      "Image Sample = 1723 | Ground Truth = 1 | Prediction = 1 | Conclusion = INFECTED\n"
     ]
    }
   ],
   "source": [
    "def conclusion(actual,pred):\n",
    "  if actual == pred:\n",
    "    if actual == 1:\n",
    "      return \"INFECTED\"\n",
    "    else:\n",
    "      return \"Uninfected\"\n",
    "  else:\n",
    "    return \"Inconclusive\"\n",
    "\n",
    "j = 1723\n",
    "plt.imshow(x_test[i])\n",
    "plt.show()\n",
    "actual,pred = y_test[j],np.argmax(preds[j])\n",
    "print(\"Image Sample = {} | Ground Truth = {} | Prediction = {} | Conclusion = {}\".format(j,actual,pred,conclusion(actual,pred)))"
   ]
  }
 ],
 "metadata": {
  "accelerator": "GPU",
  "colab": {
   "collapsed_sections": [
    "EPutjUs4lLIk"
   ],
   "name": "Project Notebook_2.ipynb",
   "provenance": []
  },
  "kernelspec": {
   "display_name": "Python 3",
   "language": "python",
   "name": "python3"
  },
  "language_info": {
   "codemirror_mode": {
    "name": "ipython",
    "version": 3
   },
   "file_extension": ".py",
   "mimetype": "text/x-python",
   "name": "python",
   "nbconvert_exporter": "python",
   "pygments_lexer": "ipython3",
   "version": "3.7.6"
  }
 },
 "nbformat": 4,
 "nbformat_minor": 1
}
